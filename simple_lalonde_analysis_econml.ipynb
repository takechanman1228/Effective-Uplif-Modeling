{
 "cells": [
  {
   "cell_type": "markdown",
   "metadata": {},
   "source": [
    "# Estimating the Average Treatment Effect (ATE) with Meta Learners in EconML \n",
    "In this notebook, we will explore how to estimate the Average Treatment Effect (ATE) using meta learners. We will utilize the National Supported Work Demonstration dataset to illustrate this process.\n"
   ]
  },
  {
   "cell_type": "code",
   "execution_count": 1,
   "metadata": {},
   "outputs": [],
   "source": [
    "import dowhy\n",
    "from dowhy import CausalModel\n",
    "from dowhy import datasets\n",
    "from sklearn.preprocessing import StandardScaler\n",
    "from sklearn.linear_model import LogisticRegression\n",
    "from lightgbm import LGBMRegressor\n",
    "import matplotlib.pyplot as plt\n",
    "\n",
    "# Avoiding unnecessary log messges and warnings\n",
    "import logging\n",
    "logging.getLogger(\"dowhy\").setLevel(logging.WARNING)\n",
    "import warnings\n",
    "from sklearn.exceptions import DataConversionWarning\n",
    "warnings.filterwarnings(action='ignore', category=DataConversionWarning)\n"
   ]
  },
  {
   "cell_type": "markdown",
   "metadata": {},
   "source": [
    "## 1. Dataset\n",
    "This dataset is derived from an employment program conducted by Lalonde in the 1970s, which aimed to assist disadvantaged workers in the U.S. in securing long-term employment through job training.\n",
    "The dataset comprises individuals categorized as either treated or control, with features such as age, ethnicity, marital status, education level, and real earnings before and after the program. "
   ]
  },
  {
   "cell_type": "code",
   "execution_count": 2,
   "metadata": {},
   "outputs": [
    {
     "data": {
      "text/html": [
       "<div>\n",
       "<style scoped>\n",
       "    .dataframe tbody tr th:only-of-type {\n",
       "        vertical-align: middle;\n",
       "    }\n",
       "\n",
       "    .dataframe tbody tr th {\n",
       "        vertical-align: top;\n",
       "    }\n",
       "\n",
       "    .dataframe thead th {\n",
       "        text-align: right;\n",
       "    }\n",
       "</style>\n",
       "<table border=\"1\" class=\"dataframe\">\n",
       "  <thead>\n",
       "    <tr style=\"text-align: right;\">\n",
       "      <th></th>\n",
       "      <th>treat</th>\n",
       "      <th>age</th>\n",
       "      <th>educ</th>\n",
       "      <th>black</th>\n",
       "      <th>hisp</th>\n",
       "      <th>married</th>\n",
       "      <th>nodegr</th>\n",
       "      <th>re74</th>\n",
       "      <th>re75</th>\n",
       "      <th>re78</th>\n",
       "      <th>u74</th>\n",
       "      <th>u75</th>\n",
       "    </tr>\n",
       "  </thead>\n",
       "  <tbody>\n",
       "    <tr>\n",
       "      <th>0</th>\n",
       "      <td>False</td>\n",
       "      <td>23.0</td>\n",
       "      <td>10.0</td>\n",
       "      <td>1.0</td>\n",
       "      <td>0.0</td>\n",
       "      <td>0.0</td>\n",
       "      <td>1.0</td>\n",
       "      <td>0.0</td>\n",
       "      <td>0.0</td>\n",
       "      <td>0.00</td>\n",
       "      <td>1.0</td>\n",
       "      <td>1.0</td>\n",
       "    </tr>\n",
       "    <tr>\n",
       "      <th>1</th>\n",
       "      <td>False</td>\n",
       "      <td>26.0</td>\n",
       "      <td>12.0</td>\n",
       "      <td>0.0</td>\n",
       "      <td>0.0</td>\n",
       "      <td>0.0</td>\n",
       "      <td>0.0</td>\n",
       "      <td>0.0</td>\n",
       "      <td>0.0</td>\n",
       "      <td>12383.68</td>\n",
       "      <td>1.0</td>\n",
       "      <td>1.0</td>\n",
       "    </tr>\n",
       "    <tr>\n",
       "      <th>2</th>\n",
       "      <td>False</td>\n",
       "      <td>22.0</td>\n",
       "      <td>9.0</td>\n",
       "      <td>1.0</td>\n",
       "      <td>0.0</td>\n",
       "      <td>0.0</td>\n",
       "      <td>1.0</td>\n",
       "      <td>0.0</td>\n",
       "      <td>0.0</td>\n",
       "      <td>0.00</td>\n",
       "      <td>1.0</td>\n",
       "      <td>1.0</td>\n",
       "    </tr>\n",
       "    <tr>\n",
       "      <th>3</th>\n",
       "      <td>False</td>\n",
       "      <td>18.0</td>\n",
       "      <td>9.0</td>\n",
       "      <td>1.0</td>\n",
       "      <td>0.0</td>\n",
       "      <td>0.0</td>\n",
       "      <td>1.0</td>\n",
       "      <td>0.0</td>\n",
       "      <td>0.0</td>\n",
       "      <td>10740.08</td>\n",
       "      <td>1.0</td>\n",
       "      <td>1.0</td>\n",
       "    </tr>\n",
       "    <tr>\n",
       "      <th>4</th>\n",
       "      <td>False</td>\n",
       "      <td>45.0</td>\n",
       "      <td>11.0</td>\n",
       "      <td>1.0</td>\n",
       "      <td>0.0</td>\n",
       "      <td>0.0</td>\n",
       "      <td>1.0</td>\n",
       "      <td>0.0</td>\n",
       "      <td>0.0</td>\n",
       "      <td>11796.47</td>\n",
       "      <td>1.0</td>\n",
       "      <td>1.0</td>\n",
       "    </tr>\n",
       "  </tbody>\n",
       "</table>\n",
       "</div>"
      ],
      "text/plain": [
       "   treat   age  educ  black  hisp  married  nodegr  re74  re75      re78  u74  \\\n",
       "0  False  23.0  10.0    1.0   0.0      0.0     1.0   0.0   0.0      0.00  1.0   \n",
       "1  False  26.0  12.0    0.0   0.0      0.0     0.0   0.0   0.0  12383.68  1.0   \n",
       "2  False  22.0   9.0    1.0   0.0      0.0     1.0   0.0   0.0      0.00  1.0   \n",
       "3  False  18.0   9.0    1.0   0.0      0.0     1.0   0.0   0.0  10740.08  1.0   \n",
       "4  False  45.0  11.0    1.0   0.0      0.0     1.0   0.0   0.0  11796.47  1.0   \n",
       "\n",
       "   u75  \n",
       "0  1.0  \n",
       "1  1.0  \n",
       "2  1.0  \n",
       "3  1.0  \n",
       "4  1.0  "
      ]
     },
     "execution_count": 2,
     "metadata": {},
     "output_type": "execute_result"
    }
   ],
   "source": [
    "# Load the data\n",
    "data = dowhy.datasets.lalonde_dataset()\n",
    "data.head()"
   ]
  },
  {
   "cell_type": "markdown",
   "metadata": {},
   "source": [
    "The dataset contains 445 samples, with 58% of the samples having actually participated in the program and 42% not having participated.\n"
   ]
  },
  {
   "cell_type": "code",
   "execution_count": 3,
   "metadata": {},
   "outputs": [
    {
     "name": "stdout",
     "output_type": "stream",
     "text": [
      "Total number of samples: 445\n"
     ]
    }
   ],
   "source": [
    "print('Total number of samples: {}'.format(len(data)))"
   ]
  },
  {
   "cell_type": "code",
   "execution_count": 4,
   "metadata": {},
   "outputs": [
    {
     "data": {
      "text/plain": [
       "treat\n",
       "False    0.58427\n",
       "True     0.41573\n",
       "Name: proportion, dtype: float64"
      ]
     },
     "execution_count": 4,
     "metadata": {},
     "output_type": "execute_result"
    }
   ],
   "source": [
    "data['treat'].value_counts(normalize = True)"
   ]
  },
  {
   "cell_type": "markdown",
   "metadata": {},
   "source": [
    "## 2. Framing\n",
    "In this section, we will define a causal model using the DoWhy library. A causal model helps us understand the cause-and-effect relationship between variables. \n",
    "Specifically, we will set the treatment column, the outcome column, and the confounding columns.\n",
    "\n",
    "- The 'treat' column represents participation in the job training program (1 if participated, 0 otherwise).\n",
    "- The 're78' column represents the real earnings in 1978, which is our outcome of interest.\n",
    "- Other columns such as 'age', 'educ', 'black', 'hisp', 'married', 'nodegr', 're74', and 're75' are considered confounders. Confounders are variables that influence both the treatment and the outcome, and we need to account for them to avoid biased estimates.\n",
    "\n",
    "Defining a causal model is a crucial step. It allows us to isolate the effect of the treatment (job training) on the outcome (earnings) by controlling for confounding variables.\n"
   ]
  },
  {
   "cell_type": "code",
   "execution_count": 5,
   "metadata": {},
   "outputs": [],
   "source": [
    "# Set features and target\n",
    "features = ['age', 'educ', 'black', 'hisp', 'married', 'nodegr', 're74', 're75']\n",
    "X = data[features]\n",
    "y = data['re78']\n",
    "T = data['treat']\n",
    "\n",
    "# Scale the features\n",
    "scaler = StandardScaler()\n",
    "X_scaled = scaler.fit_transform(X)\n",
    "\n",
    "# Define the causal model using DoWhy\n",
    "model = CausalModel(\n",
    "    data=data,\n",
    "    treatment='treat',\n",
    "    outcome='re78',\n",
    "    common_causes=features\n",
    ")\n",
    "# Identify the causal effect\n",
    "estimand = model.identify_effect(proceed_when_unidentifiable=True)\n",
    "\n"
   ]
  },
  {
   "cell_type": "markdown",
   "metadata": {},
   "source": [
    "## 3. Estimate & Calculate Average Treatment Effect (ATE)\n",
    "In this step, we will estimate the effect of the job training program on earnings using Double Machine Learning (DML).\n",
    "We will use LightGBM, a gradient boosting framework, to predict the outcome (earnings) and logistic regression to predict the treatment (participation in the job training program).You can experiment with other machine learning models by changing the method name.\n"
   ]
  },
  {
   "cell_type": "code",
   "execution_count": 6,
   "metadata": {},
   "outputs": [
    {
     "name": "stdout",
     "output_type": "stream",
     "text": [
      "Estimated Average Treatment Effect (ATE): 1679.2355823720495\n"
     ]
    }
   ],
   "source": [
    "# Estimate the causal effect using DML\n",
    "estimate = model.estimate_effect(\n",
    "    identified_estimand=estimand,\n",
    "    method_name='backdoor.econml.dml.LinearDML',\n",
    "    target_units='ate',\n",
    "    method_params={\n",
    "        'init_params': {\n",
    "            'model_y': LGBMRegressor(n_estimators=100, max_depth=3, verbose=-1),\n",
    "            'model_t': LogisticRegression(max_iter=1000),\n",
    "            'discrete_treatment': True,\n",
    "        },\n",
    "        'fit_params': {}\n",
    "    })\n",
    "\n",
    "# Display the estimated causal effect\n",
    "print(f\"Estimated Average Treatment Effect (ATE): {estimate.value}\")"
   ]
  },
  {
   "cell_type": "markdown",
   "metadata": {},
   "source": [
    "## 4. Refutation\n",
    "To verify the robustness of our causal model, we will use refutation methods. In causal inference, it is crucial to check whether the assumed causal graph is robust. We will use two methods:\n",
    "1. Random Common Cause: This method adds a random variable to the dataset as a common cause. If the original estimate is robust, the causal estimate should not change significantly. \n",
    "2. Placebo Treatment: This method replaces the treatment variable with a random variable. If the original estimate is valid, the refuted result should be close to zero.\n"
   ]
  },
  {
   "cell_type": "code",
   "execution_count": 7,
   "metadata": {},
   "outputs": [
    {
     "name": "stdout",
     "output_type": "stream",
     "text": [
      "Refute: Add a random common cause\n",
      "Estimated effect:1679.2355823720495\n",
      "New effect:1684.4755652949018\n",
      "p value:0.94\n",
      "\n",
      "Refute: Use a Placebo Treatment\n",
      "Estimated effect:1679.2355823720495\n",
      "New effect:32.2951646306353\n",
      "p value:0.8999999999999999\n",
      "\n"
     ]
    }
   ],
   "source": [
    "refutation_methods = [\n",
    "    \"random_common_cause\",\n",
    "    \"placebo_treatment_refuter\"\n",
    "]\n",
    "\n",
    "for method in refutation_methods:\n",
    "    result = model.refute_estimate(estimand, estimate, method_name=method)\n",
    "    print(result)"
   ]
  },
  {
   "cell_type": "markdown",
   "metadata": {},
   "source": [
    "1. Random Common Cause: If the p-value is greater than 0.05, indicating that adding a random common cause does not significantly affect the result, meaning it can be considered robust.\n",
    "2. Placebo Treatment: If the refuted result is much closer to zero compared to the original value. The p-value is greater than 0.05, indicating that the model is robust.\n"
   ]
  },
  {
   "cell_type": "markdown",
   "metadata": {},
   "source": [
    "## 5. Visualization of ATE and selection bias\n",
    "This code visualizes the relationship between the Average Treatment Effect (ATE) and selection bias.\n",
    "The difference in earnings between the treatment and control groups can be decomposed into ATE (the true effect of the job training program) and selection bias.\n",
    "\n",
    "\\*Please note that the monetary value around 1980 and 2024 differs by approximately four times."
   ]
  },
  {
   "cell_type": "code",
   "execution_count": 8,
   "metadata": {},
   "outputs": [
    {
     "data": {
      "image/png": "[encoded data removed]",
      "text/plain": [
       "<Figure size 1200x700 with 1 Axes>"
      ]
     },
     "metadata": {},
     "output_type": "display_data"
    },
    {
     "name": "stdout",
     "output_type": "stream",
     "text": [
      "Control Group Average Earnings: $4554.80\n",
      "Treatment Group Average Earnings: $6349.14\n",
      "Average Treatment Effect (ATE): $1679.24\n",
      "Selection Bias: $115.11\n"
     ]
    }
   ],
   "source": [
    "import matplotlib.pyplot as plt\n",
    "import numpy as np\n",
    "\n",
    "# Calculate necessary data\n",
    "control_earnings = data[data['treat'] == 0]['re78'].mean()\n",
    "treatment_earnings = data[data['treat'] == 1]['re78'].mean()\n",
    "ate = estimate.value\n",
    "\n",
    "# Calculate selection bias\n",
    "selection_bias = treatment_earnings - control_earnings - ate\n",
    "\n",
    "# Create the plot\n",
    "fig, ax = plt.subplots(figsize=(12, 7))\n",
    "\n",
    "# Create bars for control group and treatment group\n",
    "ax.bar('Control Group', control_earnings, color='skyblue', edgecolor='black', label='Base Earnings')\n",
    "ax.bar('Treatment Group', control_earnings, color='skyblue', edgecolor='black')\n",
    "\n",
    "# Stack bars for selection bias and ATE\n",
    "ax.bar('Treatment Group', selection_bias, bottom=control_earnings, color='lightgreen', edgecolor='black', label='Selection Bias')\n",
    "ax.bar('Treatment Group', ate, bottom=control_earnings + selection_bias, color='orange', edgecolor='black', label='ATE (True Effect)')\n",
    "\n",
    "# Add text labels\n",
    "ax.text(0, control_earnings / 2, f'${control_earnings:.0f}', ha='center', va='center', color='black', fontsize=10)\n",
    "ax.text(1, control_earnings / 2, f'${control_earnings:.0f}', ha='center', va='center', color='black', fontsize=10)\n",
    "ax.text(1, control_earnings + selection_bias / 2, f'${selection_bias:.0f}', ha='center', va='center', color='black', fontsize=10)\n",
    "ax.text(1, control_earnings + selection_bias + ate / 2, f'${ate:.0f}', ha='center', va='center', color='black', fontsize=10)\n",
    "\n",
    "# Customize the plot\n",
    "ax.set_ylim(0, treatment_earnings * 1.2)\n",
    "ax.set_ylabel('1978 Earnings ($)')\n",
    "ax.set_title('Decomposing Treatment Effect on 1978 Earnings')\n",
    "\n",
    "# Add legend\n",
    "ax.legend()\n",
    "\n",
    "# Set Y-axis format\n",
    "ax.yaxis.set_major_formatter(plt.FuncFormatter(lambda y, _: '${:,.0f}'.format(y)))\n",
    "\n",
    "plt.tight_layout()\n",
    "plt.show()\n",
    "\n",
    "# Output results\n",
    "print(f\"Control Group Average Earnings: ${control_earnings:.2f}\")\n",
    "print(f\"Treatment Group Average Earnings: ${treatment_earnings:.2f}\")\n",
    "print(f\"Average Treatment Effect (ATE): ${ate:.2f}\")\n",
    "print(f\"Selection Bias: ${selection_bias:.2f}\")\n"
   ]
  },
  {
   "cell_type": "markdown",
   "metadata": {},
   "source": [
    "For this demo, we used DML, but the meta-learners in econml can utilize various methods.\n",
    "To decide which meta-learner method to use, follow the steps below.\n",
    " \n",
    "Here are the recommended steps:\n",
    "- Step 1. Start simple. I recommend starting with simpler models like the S-learner or T-learner to get a baseline of the treatment effects.\n",
    "- Step 2. In the next phase, try various methods and compare them. I recommend using predictive accuracy metrics such as MAPE or RMSE and refutation tests.\n",
    "- Step 3. Perform cross-validation and hyperparameter tuning.\n"
   ]
  },
  {
   "cell_type": "code",
   "execution_count": null,
   "metadata": {},
   "outputs": [],
   "source": []
  }
 ],
 "metadata": {
  "kernelspec": {
   "display_name": "base",
   "language": "python",
   "name": "python3"
  },
  "language_info": {
   "codemirror_mode": {
    "name": "ipython",
    "version": 3
   },
   "file_extension": ".py",
   "mimetype": "text/x-python",
   "name": "python",
   "nbconvert_exporter": "python",
   "pygments_lexer": "ipython3",
   "version": "3.11.5"
  }
 },
 "nbformat": 4,
 "nbformat_minor": 2
}
